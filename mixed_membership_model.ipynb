{
 "cells": [
  {
   "cell_type": "code",
   "execution_count": 71,
   "metadata": {
    "code_folding": []
   },
   "outputs": [
    {
     "data": {
      "application/javascript": [
       "\n",
       "            setTimeout(function() {\n",
       "                var nbb_cell_id = 71;\n",
       "                var nbb_unformatted_code = \"import pyro\\nimport pyro.distributions as dist\\nimport torch\\n\\n\\ndef mixed_membership_model(alpha, nu, num_docs, num_words, vocab):\\n\\n    # Each topic is a categorical distribution over words. E.g. topics[i] = {word1: 0.2, word2: 0.8}\\n    topics = [\\n        pyro.sample(\\\"topic_{}\\\".format(i), dist.Dirichlet(nu)) for i in range(len(alpha))\\n    ]\\n\\n    # Every document is a categorical distribution over topics. E.g. documents[i] = {science: 0.2, business: 0.8}\\n    documents = [\\n        pyro.sample(\\\"doc_{}\\\".format(i), dist.Dirichlet(alpha)) for i in range(num_docs)\\n    ]\\n\\n    # A corpus is a set of documents\\n    corpus = []\\n\\n    for i in range(num_docs):\\n        document = []\\n        for j in range(num_words):\\n            topic_id = pyro.sample(\\n                \\\"assigned_topic_{}_{}\\\".format(i, j), dist.Categorical(documents[i])\\n            )\\n            word_id = pyro.sample(\\n                \\\"word_id_{}_{}\\\".format(i, j), dist.Categorical(topics[topic_id])\\n            )\\n            document.append(vocab[word_id])\\n        corpus.append(document)\\n    return corpus\";\n",
       "                var nbb_formatted_code = \"import pyro\\nimport pyro.distributions as dist\\nimport torch\\n\\n\\ndef mixed_membership_model(alpha, nu, num_docs, num_words, vocab):\\n\\n    # Each topic is a categorical distribution over words. E.g. topics[i] = {word1: 0.2, word2: 0.8}\\n    topics = [\\n        pyro.sample(\\\"topic_{}\\\".format(i), dist.Dirichlet(nu)) for i in range(len(alpha))\\n    ]\\n\\n    # Every document is a categorical distribution over topics. E.g. documents[i] = {science: 0.2, business: 0.8}\\n    documents = [\\n        pyro.sample(\\\"doc_{}\\\".format(i), dist.Dirichlet(alpha)) for i in range(num_docs)\\n    ]\\n\\n    # A corpus is a set of documents\\n    corpus = []\\n\\n    for i in range(num_docs):\\n        document = []\\n        for j in range(num_words):\\n            topic_id = pyro.sample(\\n                \\\"assigned_topic_{}_{}\\\".format(i, j), dist.Categorical(documents[i])\\n            )\\n            word_id = pyro.sample(\\n                \\\"word_id_{}_{}\\\".format(i, j), dist.Categorical(topics[topic_id])\\n            )\\n            document.append(vocab[word_id])\\n        corpus.append(document)\\n    return corpus\";\n",
       "                var nbb_cells = Jupyter.notebook.get_cells();\n",
       "                for (var i = 0; i < nbb_cells.length; ++i) {\n",
       "                    if (nbb_cells[i].input_prompt_number == nbb_cell_id) {\n",
       "                        if (nbb_cells[i].get_text() == nbb_unformatted_code) {\n",
       "                             nbb_cells[i].set_text(nbb_formatted_code);\n",
       "                        }\n",
       "                        break;\n",
       "                    }\n",
       "                }\n",
       "            }, 500);\n",
       "            "
      ],
      "text/plain": [
       "<IPython.core.display.Javascript object>"
      ]
     },
     "metadata": {},
     "output_type": "display_data"
    }
   ],
   "source": [
    "import pyro\n",
    "import pyro.distributions as dist\n",
    "import torch\n",
    "\n",
    "\n",
    "def mixed_membership_model(alpha, nu, num_docs, num_words, vocab):\n",
    "\n",
    "    # Each topic is a categorical distribution over words. E.g. topics[i] = {word1: 0.2, word2: 0.8}\n",
    "    topics = [\n",
    "        pyro.sample(\"topic_{}\".format(i), dist.Dirichlet(nu)) for i in range(len(alpha))\n",
    "    ]\n",
    "\n",
    "    # Every document is a categorical distribution over topics. E.g. documents[i] = {science: 0.2, business: 0.8}\n",
    "    documents = [\n",
    "        pyro.sample(\"doc_{}\".format(i), dist.Dirichlet(alpha)) for i in range(num_docs)\n",
    "    ]\n",
    "\n",
    "    # A corpus is a set of documents\n",
    "    corpus = []\n",
    "\n",
    "    for i in range(num_docs):\n",
    "        document = []\n",
    "        for j in range(num_words):\n",
    "            topic_id = pyro.sample(\n",
    "                \"assigned_topic_{}_{}\".format(i, j), dist.Categorical(documents[i])\n",
    "            )\n",
    "            word_id = pyro.sample(\n",
    "                \"word_id_{}_{}\".format(i, j), dist.Categorical(topics[topic_id])\n",
    "            )\n",
    "            document.append(vocab[word_id])\n",
    "        corpus.append(document)\n",
    "    return corpus"
   ]
  },
  {
   "cell_type": "code",
   "execution_count": 72,
   "metadata": {
    "code_folding": []
   },
   "outputs": [
    {
     "name": "stdout",
     "output_type": "stream",
     "text": [
      "complex issue designer comprehensive designer bottom exception raid retreat breeze retreat issue government factor designer complex core budget colon relaxation.\n",
      "factor factor breeze enlarge issue relaxation sensitive settle defendant issue complex defendant budget relaxation breeze breeze snow colon settle breeze.\n",
      "breeze colon harmful colon colon snow breeze defendant colon harmful raid grace raid adjust colon snow issue harmful budget factor.\n",
      "colon designer retain issue government issue designer bottom harmful harmful snow colon knot raid factor designer designer issue factor idea.\n",
      "settle exception complex issue colon chimney designer complex exception harmful exception comprehensive idea chimney issue retain complex designer settle issue.\n",
      "idea retain settle harmful settle drag designer concrete idea issue concrete breeze government comprehensive retain complex drag designer issue colon.\n",
      "colon breeze breeze settle issue colon factor idea harmful complex raid exception designer factor raid budget factor harmful exception breeze.\n",
      "colon breeze chimney exception raid complex retain designer knot harmful drag complex issue issue budget complex designer raid issue snow.\n",
      "core budget leak exception snow colon designer issue colon relaxation factor government factor budget harmful harmful breeze harmful retreat comprehensive.\n",
      "defendant raid harmful settle issue chimney snow chimney breeze issue grace enlarge colon government exception leak budget complex designer stick.\n"
     ]
    },
    {
     "data": {
      "text/plain": [
       "[None, None, None, None, None, None, None, None, None, None]"
      ]
     },
     "execution_count": 72,
     "metadata": {},
     "output_type": "execute_result"
    },
    {
     "data": {
      "application/javascript": [
       "\n",
       "            setTimeout(function() {\n",
       "                var nbb_cell_id = 72;\n",
       "                var nbb_unformatted_code = \"VOCAB = [\\n    \\\"budget\\\",\\n    \\\"leak\\\",\\n    \\\"designer\\\",\\n    \\\"raid\\\",\\n    \\\"colon\\\",\\n    \\\"grace\\\",\\n    \\\"defendant\\\",\\n    \\\"comprehensive\\\",\\n    \\\"retreat\\\",\\n    \\\"factor\\\",\\n    \\\"adjust\\\",\\n    \\\"drag\\\",\\n    \\\"complex\\\",\\n    \\\"retain\\\",\\n    \\\"relaxation\\\",\\n    \\\"government\\\",\\n    \\\"breeze\\\",\\n    \\\"idea\\\",\\n    \\\"concrete\\\",\\n    \\\"chimney\\\",\\n    \\\"bottom\\\",\\n    \\\"snow\\\",\\n    \\\"knot\\\",\\n    \\\"stick\\\",\\n    \\\"guilt\\\",\\n    \\\"exception\\\",\\n    \\\"sensitive\\\",\\n    \\\"settle\\\",\\n    \\\"enlarge\\\",\\n    \\\"issue\\\",\\n    \\\"harmful\\\",\\n    \\\"core\\\",\\n]\\n\\nn_topics = 3\\nvocab_size = len(VOCAB)\\nalpha = torch.ones(n_topics)\\nnu = torch.ones(vocab_size)\\nnum_docs = 10\\nnum_words = 20\\n\\nsampled_corpus = mixed_membership_model(alpha, nu, num_docs, num_words, VOCAB)\\n[print(\\\" \\\".join(doc) + \\\".\\\") for doc in sampled_corpus]\";\n",
       "                var nbb_formatted_code = \"VOCAB = [\\n    \\\"budget\\\",\\n    \\\"leak\\\",\\n    \\\"designer\\\",\\n    \\\"raid\\\",\\n    \\\"colon\\\",\\n    \\\"grace\\\",\\n    \\\"defendant\\\",\\n    \\\"comprehensive\\\",\\n    \\\"retreat\\\",\\n    \\\"factor\\\",\\n    \\\"adjust\\\",\\n    \\\"drag\\\",\\n    \\\"complex\\\",\\n    \\\"retain\\\",\\n    \\\"relaxation\\\",\\n    \\\"government\\\",\\n    \\\"breeze\\\",\\n    \\\"idea\\\",\\n    \\\"concrete\\\",\\n    \\\"chimney\\\",\\n    \\\"bottom\\\",\\n    \\\"snow\\\",\\n    \\\"knot\\\",\\n    \\\"stick\\\",\\n    \\\"guilt\\\",\\n    \\\"exception\\\",\\n    \\\"sensitive\\\",\\n    \\\"settle\\\",\\n    \\\"enlarge\\\",\\n    \\\"issue\\\",\\n    \\\"harmful\\\",\\n    \\\"core\\\",\\n]\\n\\nn_topics = 3\\nvocab_size = len(VOCAB)\\nalpha = torch.ones(n_topics)\\nnu = torch.ones(vocab_size)\\nnum_docs = 10\\nnum_words = 20\\n\\nsampled_corpus = mixed_membership_model(alpha, nu, num_docs, num_words, VOCAB)\\n[print(\\\" \\\".join(doc) + \\\".\\\") for doc in sampled_corpus]\";\n",
       "                var nbb_cells = Jupyter.notebook.get_cells();\n",
       "                for (var i = 0; i < nbb_cells.length; ++i) {\n",
       "                    if (nbb_cells[i].input_prompt_number == nbb_cell_id) {\n",
       "                        if (nbb_cells[i].get_text() == nbb_unformatted_code) {\n",
       "                             nbb_cells[i].set_text(nbb_formatted_code);\n",
       "                        }\n",
       "                        break;\n",
       "                    }\n",
       "                }\n",
       "            }, 500);\n",
       "            "
      ],
      "text/plain": [
       "<IPython.core.display.Javascript object>"
      ]
     },
     "metadata": {},
     "output_type": "display_data"
    }
   ],
   "source": [
    "VOCAB = [\n",
    "    \"budget\",\n",
    "    \"leak\",\n",
    "    \"designer\",\n",
    "    \"raid\",\n",
    "    \"colon\",\n",
    "    \"grace\",\n",
    "    \"defendant\",\n",
    "    \"comprehensive\",\n",
    "    \"retreat\",\n",
    "    \"factor\",\n",
    "    \"adjust\",\n",
    "    \"drag\",\n",
    "    \"complex\",\n",
    "    \"retain\",\n",
    "    \"relaxation\",\n",
    "    \"government\",\n",
    "    \"breeze\",\n",
    "    \"idea\",\n",
    "    \"concrete\",\n",
    "    \"chimney\",\n",
    "    \"bottom\",\n",
    "    \"snow\",\n",
    "    \"knot\",\n",
    "    \"stick\",\n",
    "    \"guilt\",\n",
    "    \"exception\",\n",
    "    \"sensitive\",\n",
    "    \"settle\",\n",
    "    \"enlarge\",\n",
    "    \"issue\",\n",
    "    \"harmful\",\n",
    "    \"core\",\n",
    "]\n",
    "\n",
    "n_topics = 3\n",
    "vocab_size = len(VOCAB)\n",
    "alpha = torch.ones(n_topics)\n",
    "nu = torch.ones(vocab_size)\n",
    "num_docs = 10\n",
    "num_words = 20\n",
    "\n",
    "sampled_corpus = mixed_membership_model(alpha, nu, num_docs, num_words, VOCAB)\n",
    "[print(\" \".join(doc) + \".\") for doc in sampled_corpus]"
   ]
  }
 ],
 "metadata": {
  "kernelspec": {
   "display_name": "Python 3",
   "language": "python",
   "name": "python3"
  },
  "language_info": {
   "codemirror_mode": {
    "name": "ipython",
    "version": 3
   },
   "file_extension": ".py",
   "mimetype": "text/x-python",
   "name": "python",
   "nbconvert_exporter": "python",
   "pygments_lexer": "ipython3",
   "version": "3.7.4"
  }
 },
 "nbformat": 4,
 "nbformat_minor": 2
}
